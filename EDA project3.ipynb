{
 "cells": [
  {
   "cell_type": "code",
   "execution_count": 2,
   "metadata": {},
   "outputs": [],
   "source": [
    "import numpy as np \n",
    "import pandas as pd \n",
    "import matplotlib.pyplot as plt\n",
    "import seaborn as sns\n"
   ]
  },
  {
   "cell_type": "code",
   "execution_count": 4,
   "metadata": {
    "scrolled": true
   },
   "outputs": [],
   "source": [
    "sns.__version__"
   ]
  },
  {
   "cell_type": "code",
   "execution_count": 3,
   "metadata": {},
   "outputs": [],
   "source": [
    "pip --version"
   ]
  },
  {
   "cell_type": "code",
   "execution_count": 4,
   "metadata": {},
   "outputs": [],
   "source": [
    "pip install --upgrade pip"
   ]
  },
  {
   "cell_type": "code",
   "execution_count": 4,
   "metadata": {},
   "outputs": [],
   "source": [
    "df = pd.read_csv('_29cm.csv' )"
   ]
  },
  {
   "cell_type": "code",
   "execution_count": 5,
   "metadata": {},
   "outputs": [
    {
     "data": {
      "text/html": [
       "<div>\n",
       "<style scoped>\n",
       "    .dataframe tbody tr th:only-of-type {\n",
       "        vertical-align: middle;\n",
       "    }\n",
       "\n",
       "    .dataframe tbody tr th {\n",
       "        vertical-align: top;\n",
       "    }\n",
       "\n",
       "    .dataframe thead th {\n",
       "        text-align: right;\n",
       "    }\n",
       "</style>\n",
       "<table border=\"1\" class=\"dataframe\">\n",
       "  <thead>\n",
       "    <tr style=\"text-align: right;\">\n",
       "      <th></th>\n",
       "      <th>Unnamed: 0</th>\n",
       "      <th>event_datatime</th>\n",
       "      <th>event_name</th>\n",
       "      <th>device_type</th>\n",
       "      <th>mobile_brand_name</th>\n",
       "      <th>mobile_model_name</th>\n",
       "      <th>mobile_marketing_name</th>\n",
       "      <th>operating_system_version</th>\n",
       "      <th>country</th>\n",
       "      <th>region</th>\n",
       "      <th>platform</th>\n",
       "      <th>item_name</th>\n",
       "      <th>price</th>\n",
       "      <th>category1_name</th>\n",
       "      <th>category2_name</th>\n",
       "      <th>category3_name</th>\n",
       "      <th>brand_name</th>\n",
       "      <th>age</th>\n",
       "      <th>gender</th>\n",
       "      <th>birth_date</th>\n",
       "    </tr>\n",
       "  </thead>\n",
       "  <tbody>\n",
       "    <tr>\n",
       "      <th>0</th>\n",
       "      <td>0</td>\n",
       "      <td>2021-06-03</td>\n",
       "      <td>click_item</td>\n",
       "      <td>mobile</td>\n",
       "      <td>Samsung</td>\n",
       "      <td>SM-N960N</td>\n",
       "      <td>Galaxy Note9</td>\n",
       "      <td>Android 10</td>\n",
       "      <td>South Korea</td>\n",
       "      <td>Gyeonggi-do</td>\n",
       "      <td>ANDROID</td>\n",
       "      <td>남성) 코튼 리넨 이지 쇼츠</td>\n",
       "      <td>29900.0</td>\n",
       "      <td>의류</td>\n",
       "      <td>하의</td>\n",
       "      <td>바지</td>\n",
       "      <td>TOPTEN</td>\n",
       "      <td>54</td>\n",
       "      <td>F</td>\n",
       "      <td>1969-04-05</td>\n",
       "    </tr>\n",
       "    <tr>\n",
       "      <th>1</th>\n",
       "      <td>1</td>\n",
       "      <td>2021-06-03</td>\n",
       "      <td>add_to_cart</td>\n",
       "      <td>mobile</td>\n",
       "      <td>Samsung</td>\n",
       "      <td>SM-G977N</td>\n",
       "      <td>Galaxy S10 5G</td>\n",
       "      <td>Android 11</td>\n",
       "      <td>South Korea</td>\n",
       "      <td>Seoul</td>\n",
       "      <td>ANDROID</td>\n",
       "      <td>Puppy's delight short sleeve T-shirts white</td>\n",
       "      <td>38000.0</td>\n",
       "      <td>의류</td>\n",
       "      <td>상의</td>\n",
       "      <td>티셔츠</td>\n",
       "      <td>Wave union</td>\n",
       "      <td>34</td>\n",
       "      <td>F</td>\n",
       "      <td>1989-02-22</td>\n",
       "    </tr>\n",
       "    <tr>\n",
       "      <th>2</th>\n",
       "      <td>2</td>\n",
       "      <td>2021-06-03</td>\n",
       "      <td>click_item</td>\n",
       "      <td>mobile</td>\n",
       "      <td>Apple</td>\n",
       "      <td>iPhone</td>\n",
       "      <td>NaN</td>\n",
       "      <td>iOS 14.4.2</td>\n",
       "      <td>South Korea</td>\n",
       "      <td>Seoul</td>\n",
       "      <td>IOS</td>\n",
       "      <td>몽돌 니트 MD 소프트 숏 슬리브 크루 넥 반팔 니트 화이트 MDTS002WHITE</td>\n",
       "      <td>42000.0</td>\n",
       "      <td>의류</td>\n",
       "      <td>상의</td>\n",
       "      <td>니트/스웨터</td>\n",
       "      <td>MONGDOL</td>\n",
       "      <td>39</td>\n",
       "      <td>F</td>\n",
       "      <td>1984-08-22</td>\n",
       "    </tr>\n",
       "    <tr>\n",
       "      <th>3</th>\n",
       "      <td>3</td>\n",
       "      <td>2021-06-03</td>\n",
       "      <td>click_item</td>\n",
       "      <td>mobile</td>\n",
       "      <td>Apple</td>\n",
       "      <td>iPhone</td>\n",
       "      <td>NaN</td>\n",
       "      <td>iOS 14.4.2</td>\n",
       "      <td>South Korea</td>\n",
       "      <td>Gyeongsangbuk-do</td>\n",
       "      <td>IOS</td>\n",
       "      <td>dapper bag (choco brown)</td>\n",
       "      <td>169000.0</td>\n",
       "      <td>잡화</td>\n",
       "      <td>가방</td>\n",
       "      <td>숄더백</td>\n",
       "      <td>yeomim</td>\n",
       "      <td>51</td>\n",
       "      <td>F</td>\n",
       "      <td>1972-09-07</td>\n",
       "    </tr>\n",
       "    <tr>\n",
       "      <th>4</th>\n",
       "      <td>4</td>\n",
       "      <td>2021-06-03</td>\n",
       "      <td>add_to_cart</td>\n",
       "      <td>mobile</td>\n",
       "      <td>Samsung</td>\n",
       "      <td>SM-G970N</td>\n",
       "      <td>Galaxy S10e</td>\n",
       "      <td>Android 11</td>\n",
       "      <td>South Korea</td>\n",
       "      <td>Seoul</td>\n",
       "      <td>ANDROID</td>\n",
       "      <td>[예약판매][락피쉬웨더웨어] 파스텔 첼시 레인부츠 - 3color</td>\n",
       "      <td>59000.0</td>\n",
       "      <td>잡화</td>\n",
       "      <td>신발</td>\n",
       "      <td>레인부츠/스노우부츠</td>\n",
       "      <td>Rockfish Weatherwear</td>\n",
       "      <td>38</td>\n",
       "      <td>NaN</td>\n",
       "      <td>1985-04-04</td>\n",
       "    </tr>\n",
       "    <tr>\n",
       "      <th>...</th>\n",
       "      <td>...</td>\n",
       "      <td>...</td>\n",
       "      <td>...</td>\n",
       "      <td>...</td>\n",
       "      <td>...</td>\n",
       "      <td>...</td>\n",
       "      <td>...</td>\n",
       "      <td>...</td>\n",
       "      <td>...</td>\n",
       "      <td>...</td>\n",
       "      <td>...</td>\n",
       "      <td>...</td>\n",
       "      <td>...</td>\n",
       "      <td>...</td>\n",
       "      <td>...</td>\n",
       "      <td>...</td>\n",
       "      <td>...</td>\n",
       "      <td>...</td>\n",
       "      <td>...</td>\n",
       "      <td>...</td>\n",
       "    </tr>\n",
       "    <tr>\n",
       "      <th>5880402</th>\n",
       "      <td>5880402</td>\n",
       "      <td>2021-08-04</td>\n",
       "      <td>click_item</td>\n",
       "      <td>mobile</td>\n",
       "      <td>Apple</td>\n",
       "      <td>iPhone</td>\n",
       "      <td>NaN</td>\n",
       "      <td>iOS 14.6</td>\n",
       "      <td>South Korea</td>\n",
       "      <td>Gyeongsangnam-do</td>\n",
       "      <td>IOS</td>\n",
       "      <td>Moody Dusk PJ Pants</td>\n",
       "      <td>63000.0</td>\n",
       "      <td>의류</td>\n",
       "      <td>라운지웨어</td>\n",
       "      <td>파자마</td>\n",
       "      <td>Foli</td>\n",
       "      <td>24</td>\n",
       "      <td>F</td>\n",
       "      <td>1999-07-12</td>\n",
       "    </tr>\n",
       "    <tr>\n",
       "      <th>5880403</th>\n",
       "      <td>5880403</td>\n",
       "      <td>2021-08-04</td>\n",
       "      <td>click_item</td>\n",
       "      <td>mobile</td>\n",
       "      <td>Apple</td>\n",
       "      <td>iPhone</td>\n",
       "      <td>NaN</td>\n",
       "      <td>iOS 14.6</td>\n",
       "      <td>South Korea</td>\n",
       "      <td>Gyeongsangnam-do</td>\n",
       "      <td>IOS</td>\n",
       "      <td>[GUAV] Marine Long Sleeve T-shirts</td>\n",
       "      <td>79000.0</td>\n",
       "      <td>의류</td>\n",
       "      <td>상의</td>\n",
       "      <td>티셔츠</td>\n",
       "      <td>GUAV</td>\n",
       "      <td>25</td>\n",
       "      <td>F</td>\n",
       "      <td>1998-04-04</td>\n",
       "    </tr>\n",
       "    <tr>\n",
       "      <th>5880404</th>\n",
       "      <td>5880404</td>\n",
       "      <td>2021-08-04</td>\n",
       "      <td>click_item</td>\n",
       "      <td>mobile</td>\n",
       "      <td>Apple</td>\n",
       "      <td>iPhone</td>\n",
       "      <td>NaN</td>\n",
       "      <td>iOS 14.6</td>\n",
       "      <td>South Korea</td>\n",
       "      <td>Gyeonggi-do</td>\n",
       "      <td>IOS</td>\n",
       "      <td>BALANSA LOGO CAP (AQUA)</td>\n",
       "      <td>59000.0</td>\n",
       "      <td>잡화</td>\n",
       "      <td>모자</td>\n",
       "      <td>볼캡</td>\n",
       "      <td>BALANSA (매입)</td>\n",
       "      <td>32</td>\n",
       "      <td>F</td>\n",
       "      <td>1991-12-03</td>\n",
       "    </tr>\n",
       "    <tr>\n",
       "      <th>5880405</th>\n",
       "      <td>5880405</td>\n",
       "      <td>2021-08-04</td>\n",
       "      <td>click_item</td>\n",
       "      <td>mobile</td>\n",
       "      <td>Samsung</td>\n",
       "      <td>SM-G977N</td>\n",
       "      <td>Galaxy S10 5G</td>\n",
       "      <td>Android 11</td>\n",
       "      <td>South Korea</td>\n",
       "      <td>Busan</td>\n",
       "      <td>ANDROID</td>\n",
       "      <td>Fleece jacket (brown)</td>\n",
       "      <td>279000.0</td>\n",
       "      <td>의류</td>\n",
       "      <td>아우터</td>\n",
       "      <td>재킷</td>\n",
       "      <td>ANDNEEDS</td>\n",
       "      <td>45</td>\n",
       "      <td>F</td>\n",
       "      <td>1978-12-21</td>\n",
       "    </tr>\n",
       "    <tr>\n",
       "      <th>5880406</th>\n",
       "      <td>5880406</td>\n",
       "      <td>2021-08-04</td>\n",
       "      <td>click_item</td>\n",
       "      <td>mobile</td>\n",
       "      <td>Apple</td>\n",
       "      <td>iPhone</td>\n",
       "      <td>NaN</td>\n",
       "      <td>iOS 14.6</td>\n",
       "      <td>South Korea</td>\n",
       "      <td>Gyeonggi-do</td>\n",
       "      <td>IOS</td>\n",
       "      <td>스트레이트 블랙 스판진 [BLACK]</td>\n",
       "      <td>72000.0</td>\n",
       "      <td>의류</td>\n",
       "      <td>하의</td>\n",
       "      <td>바지</td>\n",
       "      <td>STEP AROUND</td>\n",
       "      <td>43</td>\n",
       "      <td>F</td>\n",
       "      <td>1980-02-03</td>\n",
       "    </tr>\n",
       "  </tbody>\n",
       "</table>\n",
       "<p>5880407 rows × 20 columns</p>\n",
       "</div>"
      ],
      "text/plain": [
       "         Unnamed: 0 event_datatime   event_name device_type mobile_brand_name  \\\n",
       "0                 0     2021-06-03   click_item      mobile           Samsung   \n",
       "1                 1     2021-06-03  add_to_cart      mobile           Samsung   \n",
       "2                 2     2021-06-03   click_item      mobile             Apple   \n",
       "3                 3     2021-06-03   click_item      mobile             Apple   \n",
       "4                 4     2021-06-03  add_to_cart      mobile           Samsung   \n",
       "...             ...            ...          ...         ...               ...   \n",
       "5880402     5880402     2021-08-04   click_item      mobile             Apple   \n",
       "5880403     5880403     2021-08-04   click_item      mobile             Apple   \n",
       "5880404     5880404     2021-08-04   click_item      mobile             Apple   \n",
       "5880405     5880405     2021-08-04   click_item      mobile           Samsung   \n",
       "5880406     5880406     2021-08-04   click_item      mobile             Apple   \n",
       "\n",
       "        mobile_model_name mobile_marketing_name operating_system_version  \\\n",
       "0                SM-N960N          Galaxy Note9               Android 10   \n",
       "1                SM-G977N         Galaxy S10 5G               Android 11   \n",
       "2                  iPhone                   NaN               iOS 14.4.2   \n",
       "3                  iPhone                   NaN               iOS 14.4.2   \n",
       "4                SM-G970N           Galaxy S10e               Android 11   \n",
       "...                   ...                   ...                      ...   \n",
       "5880402            iPhone                   NaN                 iOS 14.6   \n",
       "5880403            iPhone                   NaN                 iOS 14.6   \n",
       "5880404            iPhone                   NaN                 iOS 14.6   \n",
       "5880405          SM-G977N         Galaxy S10 5G               Android 11   \n",
       "5880406            iPhone                   NaN                 iOS 14.6   \n",
       "\n",
       "             country            region platform  \\\n",
       "0        South Korea       Gyeonggi-do  ANDROID   \n",
       "1        South Korea             Seoul  ANDROID   \n",
       "2        South Korea             Seoul      IOS   \n",
       "3        South Korea  Gyeongsangbuk-do      IOS   \n",
       "4        South Korea             Seoul  ANDROID   \n",
       "...              ...               ...      ...   \n",
       "5880402  South Korea  Gyeongsangnam-do      IOS   \n",
       "5880403  South Korea  Gyeongsangnam-do      IOS   \n",
       "5880404  South Korea       Gyeonggi-do      IOS   \n",
       "5880405  South Korea             Busan  ANDROID   \n",
       "5880406  South Korea       Gyeonggi-do      IOS   \n",
       "\n",
       "                                              item_name     price  \\\n",
       "0                                       남성) 코튼 리넨 이지 쇼츠   29900.0   \n",
       "1           Puppy's delight short sleeve T-shirts white   38000.0   \n",
       "2        몽돌 니트 MD 소프트 숏 슬리브 크루 넥 반팔 니트 화이트 MDTS002WHITE   42000.0   \n",
       "3                              dapper bag (choco brown)  169000.0   \n",
       "4                  [예약판매][락피쉬웨더웨어] 파스텔 첼시 레인부츠 - 3color   59000.0   \n",
       "...                                                 ...       ...   \n",
       "5880402                             Moody Dusk PJ Pants   63000.0   \n",
       "5880403              [GUAV] Marine Long Sleeve T-shirts   79000.0   \n",
       "5880404                         BALANSA LOGO CAP (AQUA)   59000.0   \n",
       "5880405                           Fleece jacket (brown)  279000.0   \n",
       "5880406                            스트레이트 블랙 스판진 [BLACK]   72000.0   \n",
       "\n",
       "        category1_name category2_name category3_name            brand_name  \\\n",
       "0                   의류             하의             바지                TOPTEN   \n",
       "1                   의류             상의            티셔츠            Wave union   \n",
       "2                   의류             상의         니트/스웨터               MONGDOL   \n",
       "3                   잡화             가방            숄더백                yeomim   \n",
       "4                   잡화             신발     레인부츠/스노우부츠  Rockfish Weatherwear   \n",
       "...                ...            ...            ...                   ...   \n",
       "5880402             의류          라운지웨어            파자마                  Foli   \n",
       "5880403             의류             상의            티셔츠                  GUAV   \n",
       "5880404             잡화             모자             볼캡          BALANSA (매입)   \n",
       "5880405             의류            아우터             재킷              ANDNEEDS   \n",
       "5880406             의류             하의             바지           STEP AROUND   \n",
       "\n",
       "         age gender  birth_date  \n",
       "0         54      F  1969-04-05  \n",
       "1         34      F  1989-02-22  \n",
       "2         39      F  1984-08-22  \n",
       "3         51      F  1972-09-07  \n",
       "4         38    NaN  1985-04-04  \n",
       "...      ...    ...         ...  \n",
       "5880402   24      F  1999-07-12  \n",
       "5880403   25      F  1998-04-04  \n",
       "5880404   32      F  1991-12-03  \n",
       "5880405   45      F  1978-12-21  \n",
       "5880406   43      F  1980-02-03  \n",
       "\n",
       "[5880407 rows x 20 columns]"
      ]
     },
     "execution_count": 5,
     "metadata": {},
     "output_type": "execute_result"
    }
   ],
   "source": [
    "df"
   ]
  },
  {
   "cell_type": "code",
   "execution_count": 9,
   "metadata": {
    "scrolled": true
   },
   "outputs": [],
   "source": [
    "df[['event_name']].isnull().sum()"
   ]
  },
  {
   "cell_type": "code",
   "execution_count": 9,
   "metadata": {
    "scrolled": true
   },
   "outputs": [],
   "source": [
    "df.info() "
   ]
  },
  {
   "cell_type": "code",
   "execution_count": 10,
   "metadata": {
    "scrolled": true
   },
   "outputs": [],
   "source": [
    "df['brand_name'].value_counts()"
   ]
  },
  {
   "cell_type": "code",
   "execution_count": 11,
   "metadata": {
    "scrolled": true
   },
   "outputs": [],
   "source": [
    "df['brand_name'].value_counts()[:10]"
   ]
  },
  {
   "cell_type": "code",
   "execution_count": 5,
   "metadata": {
    "scrolled": true
   },
   "outputs": [],
   "source": [
    "df['age'].value_counts()"
   ]
  },
  {
   "cell_type": "code",
   "execution_count": null,
   "metadata": {
    "scrolled": false
   },
   "outputs": [],
   "source": [
    "df['brand_name'].value_counts().plot(kind='barh', figsize=(12,6))"
   ]
  },
  {
   "cell_type": "code",
   "execution_count": 13,
   "metadata": {},
   "outputs": [],
   "source": [
    "df['brand_name'].value_counts()[:10].plot(kind='barh', figsize=(12,6))"
   ]
  },
  {
   "cell_type": "code",
   "execution_count": 14,
   "metadata": {
    "scrolled": true
   },
   "outputs": [],
   "source": [
    "plt.figure(figsize = (12, 6))\n",
    "sns.histplot(data = df.loc[df['brand_name'].isin(df['brand_name'].value_counts()[:3].index)], x = 'age', bins = 30,\n",
    "                        hue = 'brand_name', multiple = 'stack', palette = 'Set2')\n",
    "plt.show()"
   ]
  },
  {
   "cell_type": "code",
   "execution_count": 8,
   "metadata": {},
   "outputs": [],
   "source": [
    "df['age_dist'] = 0\n",
    "def func(x):\n",
    "    if x >= 20 and x < 30:\n",
    "        return 2\n",
    "    elif x >= 30 and x < 40:\n",
    "        return 3\n",
    "    elif x >= 40 and x < 50:\n",
    "        return 4\n",
    "    elif x >= 50 and x < 60:\n",
    "        return 5\n",
    "    else: # 20세 미만, 60세 초과\n",
    "        return 1\n",
    "df.age_dist = df.age.apply(func)"
   ]
  },
  {
   "cell_type": "code",
   "execution_count": 3,
   "metadata": {},
   "outputs": [
    {
     "ename": "NameError",
     "evalue": "name 'df' is not defined",
     "output_type": "error",
     "traceback": [
      "\u001b[1;31m---------------------------------------------------------------------------\u001b[0m",
      "\u001b[1;31mNameError\u001b[0m                                 Traceback (most recent call last)",
      "\u001b[1;32m<ipython-input-3-27a3c1f4f39f>\u001b[0m in \u001b[0;36m<module>\u001b[1;34m\u001b[0m\n\u001b[0;32m      1\u001b[0m \u001b[1;31m# 20대는M Mardi Mercedi인 저가를 선호하고, 3040은 고가 브랜드인 LENNIA를 가장 선호했다.\u001b[0m\u001b[1;33m\u001b[0m\u001b[1;33m\u001b[0m\u001b[1;33m\u001b[0m\u001b[0m\n\u001b[0;32m      2\u001b[0m \u001b[0mplt\u001b[0m\u001b[1;33m.\u001b[0m\u001b[0mfigure\u001b[0m\u001b[1;33m(\u001b[0m\u001b[0mfigsize\u001b[0m \u001b[1;33m=\u001b[0m \u001b[1;33m(\u001b[0m\u001b[1;36m12\u001b[0m\u001b[1;33m,\u001b[0m \u001b[1;36m6\u001b[0m\u001b[1;33m)\u001b[0m\u001b[1;33m)\u001b[0m\u001b[1;33m\u001b[0m\u001b[1;33m\u001b[0m\u001b[0m\n\u001b[1;32m----> 3\u001b[1;33m sns.countplot(data = df.loc[df['brand_name'].isin(df['brand_name'].value_counts()[:10].index)], x = 'age_dist',\n\u001b[0m\u001b[0;32m      4\u001b[0m                         hue = 'brand_name', palette = 'Set2')\n\u001b[0;32m      5\u001b[0m \u001b[0mplt\u001b[0m\u001b[1;33m.\u001b[0m\u001b[0mshow\u001b[0m\u001b[1;33m(\u001b[0m\u001b[1;33m)\u001b[0m\u001b[1;33m\u001b[0m\u001b[1;33m\u001b[0m\u001b[0m\n",
      "\u001b[1;31mNameError\u001b[0m: name 'df' is not defined"
     ]
    },
    {
     "data": {
      "text/plain": [
       "<Figure size 864x432 with 0 Axes>"
      ]
     },
     "metadata": {},
     "output_type": "display_data"
    }
   ],
   "source": [
    "# 20대는M Mardi Mercedi인 저가를 선호하고, 3040은 고가 브랜드인 LENNIA를 가장 선호했다.\n",
    "plt.figure(figsize = (12, 6))\n",
    "sns.countplot(data = df.loc[df['brand_name'].isin(df['brand_name'].value_counts()[:10].index)], x = 'age_dist',\n",
    "                        hue = 'brand_name', palette = 'Set2')\n",
    "plt.show()"
   ]
  },
  {
   "cell_type": "code",
   "execution_count": null,
   "metadata": {},
   "outputs": [],
   "source": [
    "# 핸드폰 기종에 따른 이벤트 반응들."
   ]
  },
  {
   "cell_type": "code",
   "execution_count": 11,
   "metadata": {},
   "outputs": [],
   "source": [
    "df[['mobile_brand_name']].isnull().sum()"
   ]
  },
  {
   "cell_type": "code",
   "execution_count": 12,
   "metadata": {
    "scrolled": true
   },
   "outputs": [],
   "source": [
    "df[['mobile_brand_name']].value_counts()"
   ]
  },
  {
   "cell_type": "code",
   "execution_count": 13,
   "metadata": {},
   "outputs": [],
   "source": [
    "df[['mobile_brand_name']].isnull()"
   ]
  },
  {
   "cell_type": "code",
   "execution_count": 20,
   "metadata": {},
   "outputs": [],
   "source": [
    "mobile = df[['mobile_brand_name']].dropna(axis=0)"
   ]
  },
  {
   "cell_type": "code",
   "execution_count": 21,
   "metadata": {},
   "outputs": [],
   "source": [
    "mobile.isnull().sum()\n"
   ]
  },
  {
   "cell_type": "code",
   "execution_count": 10,
   "metadata": {},
   "outputs": [],
   "source": [
    "def func(x):\n",
    "    if x=='click_item':\n",
    "        return 0\n",
    "    elif x in ['add_to_cart', 'like_item']:\n",
    "        return 0\n",
    "    elif x=='purchase_success':\n",
    "        return 10\n",
    "df.loc[df['country']=='South Korea', 'response_rating'] = df.loc[df['country']=='South Korea', 'event_name'].apply(func)"
   ]
  },
  {
   "cell_type": "code",
   "execution_count": 27,
   "metadata": {
    "scrolled": false
   },
   "outputs": [],
   "source": [
    "mean_df2 = df.loc[((df['country']=='South Korea')&(df['event_name']=='purchase_success'))].groupby(['region']).mean().reset_index()\n",
    "mean_df2"
   ]
  },
  {
   "cell_type": "code",
   "execution_count": 11,
   "metadata": {},
   "outputs": [],
   "source": [
    "# 평일 & 주말 구매율 확인\n",
    "df['event_datatime']"
   ]
  },
  {
   "cell_type": "code",
   "execution_count": 15,
   "metadata": {},
   "outputs": [],
   "source": [
    "df.info()"
   ]
  },
  {
   "cell_type": "code",
   "execution_count": 13,
   "metadata": {},
   "outputs": [],
   "source": [
    "from datetime import datetime, date\n",
    "def check_weekend(date):\n",
    "    weekday = date.weekday()\n",
    "    if weekday <= 4:\n",
    "        print(f\"{date} is weekday\") \n",
    "    if weekday > 4:\n",
    "        print(f\"{date} is weekend\")"
   ]
  },
  {
   "cell_type": "code",
   "execution_count": 14,
   "metadata": {},
   "outputs": [],
   "source": [
    "df['event_datatime'] = pd.to_datetime(df['event_datatime'], format='%Y-%m-%d')"
   ]
  },
  {
   "cell_type": "code",
   "execution_count": 1,
   "metadata": {
    "scrolled": false
   },
   "outputs": [
    {
     "ename": "NameError",
     "evalue": "name 'df' is not defined",
     "output_type": "error",
     "traceback": [
      "\u001b[1;31m---------------------------------------------------------------------------\u001b[0m",
      "\u001b[1;31mNameError\u001b[0m                                 Traceback (most recent call last)",
      "\u001b[1;32m<ipython-input-1-a74c58233b9e>\u001b[0m in \u001b[0;36m<module>\u001b[1;34m\u001b[0m\n\u001b[1;32m----> 1\u001b[1;33m \u001b[0mdf\u001b[0m\u001b[1;33m.\u001b[0m\u001b[0minfo\u001b[0m\u001b[1;33m(\u001b[0m\u001b[1;33m)\u001b[0m\u001b[1;33m\u001b[0m\u001b[1;33m\u001b[0m\u001b[0m\n\u001b[0m",
      "\u001b[1;31mNameError\u001b[0m: name 'df' is not defined"
     ]
    }
   ],
   "source": [
    "df.info()"
   ]
  },
  {
   "cell_type": "code",
   "execution_count": 16,
   "metadata": {},
   "outputs": [],
   "source": [
    "df.event_datatime = df.event_datatime.apply(check_weekend)"
   ]
  }
 ],
 "metadata": {
  "kernelspec": {
   "display_name": "Python 3",
   "language": "python",
   "name": "python3"
  },
  "language_info": {
   "codemirror_mode": {
    "name": "ipython",
    "version": 3
   },
   "file_extension": ".py",
   "mimetype": "text/x-python",
   "name": "python",
   "nbconvert_exporter": "python",
   "pygments_lexer": "ipython3",
   "version": "3.6.8"
  }
 },
 "nbformat": 4,
 "nbformat_minor": 1
}
